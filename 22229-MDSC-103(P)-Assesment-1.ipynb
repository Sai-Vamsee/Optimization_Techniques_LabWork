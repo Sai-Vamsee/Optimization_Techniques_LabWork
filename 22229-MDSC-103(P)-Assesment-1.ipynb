{
 "cells": [
  {
   "cell_type": "markdown",
   "id": "664dd749",
   "metadata": {},
   "source": [
    "# MDSC-103 Assignment-1-22229"
   ]
  },
  {
   "cell_type": "markdown",
   "id": "9f130fb7",
   "metadata": {},
   "source": [
    "## Write a program to find the local max/min using direct search(golden section) method."
   ]
  },
  {
   "cell_type": "code",
   "execution_count": 20,
   "id": "fb487e35",
   "metadata": {},
   "outputs": [],
   "source": [
    "def f(x):\n",
    "    if(0<= x <= 2):\n",
    "        a= lambda x : 3*x\n",
    "        return a(x)\n",
    "    if(2<= x <= 4):\n",
    "        b=lambda x : (1/3)*(-x+20)\n",
    "        return b(x)\n",
    "\n",
    "def golden_section(X_l,X_r,itre):\n",
    "    xl = X_l\n",
    "    xr = X_r\n",
    "    d = (np.sqrt(5)-1)/2\n",
    "    i =0\n",
    "    while i< itre:\n",
    "        x1 = xr - d*(xr-xl)\n",
    "        x2 = xl + d*(xr-xl)\n",
    "        if(f(x1)>f(x2)):\n",
    "            xr=x2\n",
    "        if(f(x1)<f(x2)):\n",
    "            xl=x1\n",
    "        if(f(x1)==f(x2)):\n",
    "            x1=x1\n",
    "            x2=x2\n",
    "        print(f\"the values of x1,x2 for {i} th iteration are {x1}  {x2} \")\n",
    "        i=i+1\n",
    "    print(x1)\n",
    "    print(x2)"
   ]
  },
  {
   "cell_type": "code",
   "execution_count": 21,
   "id": "8c6ee4f3",
   "metadata": {},
   "outputs": [
    {
     "name": "stdout",
     "output_type": "stream",
     "text": [
      "the values of x1,x2 for 0 th iteration are 1.1458980337503153  1.8541019662496847 \n",
      "the values of x1,x2 for 1 th iteration are 1.8541019662496843  2.291796067500631 \n",
      "1.8541019662496843\n",
      "2.291796067500631\n"
     ]
    }
   ],
   "source": [
    "golden_section(0,3,2)"
   ]
  },
  {
   "cell_type": "markdown",
   "id": "edc0f702",
   "metadata": {},
   "source": [
    "## Write a program to minimize a function using gradient descent."
   ]
  },
  {
   "cell_type": "code",
   "execution_count": 14,
   "id": "dfd3607a",
   "metadata": {},
   "outputs": [],
   "source": [
    "def f(x):\n",
    "    a = lambda x : (4*x) + (2)*(x**2)\n",
    "    \n",
    "def g(x):\n",
    "    return 4 + (4*x)\n",
    "\n",
    "def gradient_desent(in_p,r,err,itre):\n",
    "    i = 0\n",
    "    while i < itre:\n",
    "        t = g(in_p)\n",
    "        x1 = in_p - (r)*(t)\n",
    "        i=i+1\n",
    "        if (abs(in_p-x1) < err):\n",
    "            break\n",
    "        in_p = x1    \n",
    "    \n",
    "    return x1   "
   ]
  },
  {
   "cell_type": "code",
   "execution_count": 17,
   "id": "b28321bb",
   "metadata": {},
   "outputs": [
    {
     "data": {
      "text/plain": [
       "-0.9879067648"
      ]
     },
     "execution_count": 17,
     "metadata": {},
     "output_type": "execute_result"
    }
   ],
   "source": [
    "gradient_desent(1,0.1,0.01,10)"
   ]
  },
  {
   "cell_type": "code",
   "execution_count": null,
   "id": "07e1569c",
   "metadata": {},
   "outputs": [],
   "source": []
  }
 ],
 "metadata": {
  "kernelspec": {
   "display_name": "Python 3 (ipykernel)",
   "language": "python",
   "name": "python3"
  },
  "language_info": {
   "codemirror_mode": {
    "name": "ipython",
    "version": 3
   },
   "file_extension": ".py",
   "mimetype": "text/x-python",
   "name": "python",
   "nbconvert_exporter": "python",
   "pygments_lexer": "ipython3",
   "version": "3.9.13"
  }
 },
 "nbformat": 4,
 "nbformat_minor": 5
}
